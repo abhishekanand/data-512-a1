{
 "cells": [
  {
   "cell_type": "markdown",
   "metadata": {
    "scrolled": true
   },
   "source": [
    "# English Wikipedia page views, 2008 - 2017\n",
    "\n",
    "For this assignment, goal is to analyze traffic on English Wikipedia over time, and then document your process and the resulting dataset and visualization according to best practices for open research that were outlined for you in class."
   ]
  },
  {
   "cell_type": "markdown",
   "metadata": {},
   "source": [
    "### Example API request\n",
    "You can use this example API request as a starting point for building your API queries. Note that the [Legacy Pagecounts API](https://wikitech.wikimedia.org/wiki/Analytics/AQS/Legacy_Pagecounts) has slightly different schema than the [pageview API](https://wikitech.wikimedia.org/wiki/Analytics/AQS/Pageviews) shown here.\n",
    "\n",
    "This sample API request would get you all pageviews by web crawlers on the mobile website for English Wikipedia during the month of September, 2017."
   ]
  },
  {
   "cell_type": "markdown",
   "metadata": {},
   "source": [
    "## Step 1: Data acquisition\n",
    "\n",
    "#### Collect dataset of monthly traffic on English Wikipedia from July 1 2008 through September 30 2017.\n",
    "\n",
    "Using Legacy Pagcounts API - From January 2008 through July 2016. \n",
    "    * By Desktop\n",
    "        -- pagecounts_desktop-site_200801-201607.json\n",
    "    * By Mobile \n",
    "        -- pagecounts_mobile-site_200801-201607.json\n",
    "        \n",
    "Variable  :\n",
    "        -- pcStart = 2008010100\n",
    "        -- pcEnd = 2016080100\n",
    "       "
   ]
  },
  {
   "cell_type": "code",
   "execution_count": 1,
   "metadata": {
    "collapsed": true
   },
   "outputs": [],
   "source": [
    "# Required Library \n",
    "import requests\n",
    "import json"
   ]
  },
  {
   "cell_type": "code",
   "execution_count": 2,
   "metadata": {
    "collapsed": true
   },
   "outputs": [],
   "source": [
    "# API  :  https://wikimedia.org/api/rest_v1/#/Legacy_data \n",
    "# Understanding of Legacy API  - Modifying endpoint and Parameter accordingly \n",
    "endpoint = 'https://wikimedia.org/api/rest_v1/metrics/legacy/pagecounts/aggregate/{project}/{access-site}/{granularity}/{start}/{end}'\n",
    "headers={'User-Agent' : 'https://github.com/abhishekanand', 'From' : 'anand1@uw.edu'}"
   ]
  },
  {
   "cell_type": "code",
   "execution_count": 3,
   "metadata": {},
   "outputs": [],
   "source": [
    "# Getting PageCount [Legacy API (User+Spider)]  : Desktop-site \n",
    "OUTPUT_File = 'pagecounts_desktop-site_200801-201607.json'\n",
    "params = {'project' : 'en.wikipedia.org',\n",
    "            'access-site' : 'desktop-site',\n",
    "            'granularity' : 'monthly',\n",
    "            'start' : '2008010100',\n",
    "            'end' : '2016080100'#use the first day of the following month to ensure a full month of data is collected\n",
    "            }\n",
    "\n",
    "api_call = requests.get(endpoint.format(**params))\n",
    "#print(endpoint.format(**params))\n",
    "response = api_call.json()\n",
    "#print(response) # Print Resposne from API call \n",
    "\n",
    "# https://stackoverflow.com/questions/17043860/python-dump-dict-to-json-file\n",
    "with open(OUTPUT_File, 'w') as fp:\n",
    "    json.dump(response, fp)\n",
    "    "
   ]
  },
  {
   "cell_type": "code",
   "execution_count": 4,
   "metadata": {},
   "outputs": [],
   "source": [
    "# Getting PageCount [Legacy API (User+Spider)]   : Mobile-site\n",
    "OUTPUT_File = 'pagecounts_mobile-site_200801-201607.json'\n",
    "params = {'project' : 'en.wikipedia.org',\n",
    "            'access-site' : 'mobile-site',\n",
    "            'granularity' : 'monthly',\n",
    "            'start' : '2008010100',\n",
    "            'end' : '2016080100'#use the first day of the following month to ensure a full month of data is collected\n",
    "            }\n",
    "\n",
    "api_call = requests.get(endpoint.format(**params))\n",
    "#print(endpoint.format(**params))\n",
    "response = api_call.json()\n",
    "#print(response) # Print Resposne from API call \n",
    "\n",
    "# https://stackoverflow.com/questions/17043860/python-dump-dict-to-json-file\n",
    "with open(OUTPUT_File, 'w') as fp:\n",
    "    json.dump(response, fp)\n",
    "    "
   ]
  },
  {
   "cell_type": "markdown",
   "metadata": {},
   "source": [
    "Using Pageviews API - From July 2015 through September 2017.\n",
    "* By Desktop\n",
    "    -- pageviews_desktop-site_201501-201711.json       \n",
    "* By Mobile web\n",
    "    -- pageviews_mobileweb-site_201501-201711.json\n",
    "* By Mobile App\n",
    "    -- pageviews_mobileapp-site_201501-201711.json\n",
    "Variable : -- pvstart = 2015070100 -- pvEnd = 2017100100"
   ]
  },
  {
   "cell_type": "code",
   "execution_count": 5,
   "metadata": {},
   "outputs": [],
   "source": [
    "\n",
    "endpoint = 'https://wikimedia.org/api/rest_v1/metrics/pageviews/aggregate/{project}/{access}/{agent}/{granularity}/{start}/{end}'\n",
    "headers={'User-Agent' : 'https://github.com/abhishekanand', 'From' : 'anand1@uw.edu'}\n",
    "\n",
    "# Using Pageviews API - From July 2015 through September 2017\n",
    "#pvStart = 2015070100\n",
    "#pvEnd = 2017091000 \n"
   ]
  },
  {
   "cell_type": "code",
   "execution_count": 6,
   "metadata": {
    "collapsed": true
   },
   "outputs": [],
   "source": [
    "# Getting PageView [(User)] : Desktop\n",
    "OUTPUT_File = 'pageviews_desktop-site_201501-201711.json'\n",
    "params = {'project' : 'en.wikipedia.org',\n",
    "            'access' : 'desktop',\n",
    "            'agent' : 'user',\n",
    "            'granularity' : 'monthly',\n",
    "            'start' : '2015070100',\n",
    "            'end' : '2017100100'#use the first day of the following month to ensure a full month of data is collected\n",
    "            }\n",
    "\n",
    "api_call = requests.get(endpoint.format(**params))\n",
    "response = api_call.json()\n",
    "# print(response) # Print Resposne from API call \n",
    "\n",
    "# https://stackoverflow.com/questions/17043860/python-dump-dict-to-json-file\n",
    "with open(OUTPUT_File, 'w') as fp:\n",
    "    json.dump(response, fp)\n",
    "    "
   ]
  },
  {
   "cell_type": "code",
   "execution_count": 7,
   "metadata": {
    "collapsed": true
   },
   "outputs": [],
   "source": [
    "# Getting PageView [(User)]  : mobile-app\n",
    "OUTPUT_File = 'pageviews_mobileapp-site_201501-201711.json'\n",
    "params = {'project' : 'en.wikipedia.org',\n",
    "            'access' : 'mobile-app',\n",
    "            'agent' : 'user',\n",
    "            'granularity' : 'monthly',\n",
    "            'start' : '2015070100',\n",
    "            'end' : '2017100100'#use the first day of the following month to ensure a full month of data is collected\n",
    "            }\n",
    "\n",
    "api_call = requests.get(endpoint.format(**params))\n",
    "response = api_call.json()\n",
    "# print(response) # Print Resposne from API call \n",
    "\n",
    "# https://stackoverflow.com/questions/17043860/python-dump-dict-to-json-file\n",
    "with open(OUTPUT_File, 'w') as fp:\n",
    "    json.dump(response, fp)"
   ]
  },
  {
   "cell_type": "code",
   "execution_count": 8,
   "metadata": {
    "collapsed": true
   },
   "outputs": [],
   "source": [
    "# Getting PageView [(User)]  : mobile-web\n",
    "OUTPUT_File = 'pageviews_mobileweb-site_201501-201711.json'\n",
    "params = {'project' : 'en.wikipedia.org',\n",
    "            'access' : 'mobile-web',\n",
    "            'agent' : 'user',\n",
    "            'granularity' : 'monthly',\n",
    "            'start' : '2015070100',\n",
    "            'end' : '2017100100'#use the first day of the following month to ensure a full month of data is collected\n",
    "            }\n",
    "\n",
    "api_call = requests.get(endpoint.format(**params))\n",
    "response = api_call.json()\n",
    "# print(response) # Print Resposne from API call \n",
    "\n",
    "# https://stackoverflow.com/questions/17043860/python-dump-dict-to-json-file\n",
    "with open(OUTPUT_File, 'w') as fp:\n",
    "    json.dump(response, fp)"
   ]
  },
  {
   "cell_type": "markdown",
   "metadata": {},
   "source": [
    "## Step 2: Data processing"
   ]
  },
  {
   "cell_type": "markdown",
   "metadata": {},
   "source": [
    "For data collected from the Pageviews API, combine the monthly values for mobile-app and mobile-web to create a total mobile traffic count for each month."
   ]
  },
  {
   "cell_type": "code",
   "execution_count": null,
   "metadata": {
    "collapsed": true
   },
   "outputs": [],
   "source": [
    "# Code "
   ]
  },
  {
   "cell_type": "markdown",
   "metadata": {},
   "source": [
    "For all data, separate the value of timestamp into four-digit year (YYYY) and two-digit month (MM) and discard values for day and hour (DDHH).\n",
    "Combine all data into a single CSV file with the following headers:\n",
    "\n",
    "Column            \t         Value\n",
    "year\t                     YYYY\n",
    "month\t                     MM\n",
    "pagecount_all_views\t         num_views\n",
    "pagecount_desktop_views\t     num_views\n",
    "pagecount_mobile_views\t     num_views\n",
    "pageview_all_views\t         num_views\n",
    "pageview_desktop_views\t     num_views\n",
    "pageview_mobile_views\t     num_views\n"
   ]
  },
  {
   "cell_type": "code",
   "execution_count": null,
   "metadata": {
    "collapsed": true
   },
   "outputs": [],
   "source": [
    "#Code"
   ]
  },
  {
   "cell_type": "code",
   "execution_count": null,
   "metadata": {
    "collapsed": true
   },
   "outputs": [],
   "source": []
  }
 ],
 "metadata": {
  "kernelspec": {
   "display_name": "Python 3",
   "language": "python",
   "name": "python3"
  },
  "language_info": {
   "codemirror_mode": {
    "name": "ipython",
    "version": 3
   },
   "file_extension": ".py",
   "mimetype": "text/x-python",
   "name": "python",
   "nbconvert_exporter": "python",
   "pygments_lexer": "ipython3",
   "version": "3.6.2"
  }
 },
 "nbformat": 4,
 "nbformat_minor": 2
}
