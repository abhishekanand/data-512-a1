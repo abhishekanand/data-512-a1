{
 "cells": [
  {
   "cell_type": "markdown",
   "metadata": {
    "scrolled": true
   },
   "source": [
    "# English Wikipedia page views, 2008 - 2017\n"
   ]
  },
  {
   "cell_type": "markdown",
   "metadata": {},
   "source": [
    "## Step 1: Data acquisition\n",
    "\n",
    "#### Collect dataset of monthly traffic on English Wikipedia from July 1 2008 through September 30 2017.\n",
    "\n",
    "Using Legacy Pagcounts API - From January 2008 through July 2016. \n",
    "    * By Desktop\n",
    "        -- pagecounts_desktop-site_200801-201607.json\n",
    "    * By Mobile \n",
    "        -- pagecounts_mobile-site_200801-201607.json\n",
    "        \n",
    "Variable  :\n",
    "\n",
    "        -- pcStart = 2008010100\n",
    "        \n",
    "        -- pcEnd = 2016080100\n",
    "       "
   ]
  },
  {
   "cell_type": "code",
   "execution_count": 1,
   "metadata": {
    "collapsed": true
   },
   "outputs": [],
   "source": [
    "# Required Library \n",
    "import requests\n",
    "import json"
   ]
  },
  {
   "cell_type": "code",
   "execution_count": 2,
   "metadata": {
    "collapsed": true
   },
   "outputs": [],
   "source": [
    "# API  :  https://wikimedia.org/api/rest_v1/#/Legacy_data \n",
    "# Understanding of Legacy data API  - Modifying endpoint and Parameter accordingly \n",
    "endpoint = 'https://wikimedia.org/api/rest_v1/metrics/legacy/pagecounts/aggregate/{project}/{access-site}/{granularity}/{start}/{end}'\n",
    "headers={'User-Agent' : 'https://github.com/abhishekanand', 'From' : 'anand1@uw.edu'}\n",
    "\n",
    "#    -- pcStart = 2008010100     \n",
    "#  -- pcEnd = 2016080100\n",
    "       \n"
   ]
  },
  {
   "cell_type": "code",
   "execution_count": 3,
   "metadata": {
    "collapsed": true
   },
   "outputs": [],
   "source": [
    "# Getting PageCount [Legacy API (User+Spider)]  : Desktop-site \n",
    "OUTPUT_File = 'pagecounts_desktop-site_200801-201607.json'\n",
    "params = {'project' : 'en.wikipedia.org',\n",
    "            'access-site' : 'desktop-site',\n",
    "            'granularity' : 'monthly',\n",
    "            'start' : '2008010100',\n",
    "            'end' : '2016080100'#use the first day of the following month to ensure a full month of data is collected\n",
    "            }\n",
    "\n",
    "api_call = requests.get(endpoint.format(**params))\n",
    "#print(endpoint.format(**params))\n",
    "pagecount_desktop_views = api_call.json()\n",
    "#print(pagecount_desktop_views) # Print Resposne from API call \n",
    "\n",
    "# https://stackoverflow.com/questions/17043860/python-dump-dict-to-json-file\n",
    "with open(OUTPUT_File, 'w') as fp:\n",
    "    json.dump(pagecount_desktop_views, fp)\n",
    "    "
   ]
  },
  {
   "cell_type": "code",
   "execution_count": 4,
   "metadata": {
    "collapsed": true
   },
   "outputs": [],
   "source": [
    "# Getting PageCount [Legacy API (User+Spider)]   : Mobile-site\n",
    "OUTPUT_File = 'pagecounts_mobile-site_200801-201607.json'\n",
    "params = {'project' : 'en.wikipedia.org',\n",
    "            'access-site' : 'mobile-site',\n",
    "            'granularity' : 'monthly',\n",
    "            'start' : '2008010100',\n",
    "            'end' : '2016080100'#use the first day of the following month to ensure a full month of data is collected\n",
    "            }\n",
    "\n",
    "api_call = requests.get(endpoint.format(**params))\n",
    "#print(endpoint.format(**params))\n",
    "pagecount_mobile_views = api_call.json()\n",
    "#print(pagecount_mobile_views) # Print Resposne from API call \n",
    "\n",
    "# https://stackoverflow.com/questions/17043860/python-dump-dict-to-json-file\n",
    "with open(OUTPUT_File, 'w') as fp:\n",
    "    json.dump(pagecount_mobile_views, fp)\n",
    "    "
   ]
  },
  {
   "cell_type": "markdown",
   "metadata": {},
   "source": [
    "Using Pageviews API - From July 2015 through September 2017.\n",
    "* By Desktop\n",
    "    -- pageviews_desktop-site_201501-201709.json       \n",
    "* By Mobile web\n",
    "    -- pageviews_mobileweb-site_201501-201709.json\n",
    "* By Mobile App\n",
    "    -- pageviews_mobileapp-site_201501-201709.json\n"
   ]
  },
  {
   "cell_type": "code",
   "execution_count": 5,
   "metadata": {
    "collapsed": true
   },
   "outputs": [],
   "source": [
    "# API  : https://wikimedia.org/api/rest_v1/#/Pageviews_data\n",
    "# Understanding of PageViews API  - Modifying endpoint and Parameter accordingly \n",
    "endpoint = 'https://wikimedia.org/api/rest_v1/metrics/pageviews/aggregate/{project}/{access}/{agent}/{granularity}/{start}/{end}'\n",
    "headers={'User-Agent' : 'https://github.com/abhishekanand', 'From' : 'anand1@uw.edu'}\n",
    "\n",
    "# Using Pageviews API - From July 2015 through September 2017\n",
    "#pvStart = 2015070100\n",
    "#pvEnd = 2017091000 \n"
   ]
  },
  {
   "cell_type": "code",
   "execution_count": 6,
   "metadata": {
    "collapsed": true
   },
   "outputs": [],
   "source": [
    "# Getting PageView [(User)] : Desktop\n",
    "OUTPUT_File = 'pageviews_desktop-site_201501-201709.json'\n",
    "params = {'project' : 'en.wikipedia.org',\n",
    "            'access' : 'desktop',\n",
    "            'agent' : 'user',\n",
    "            'granularity' : 'monthly',\n",
    "            'start' : '2015070100',\n",
    "            'end' : '2017100100'#use the first day of the following month to ensure a full month of data is collected\n",
    "            }\n",
    "\n",
    "api_call = requests.get(endpoint.format(**params))\n",
    "pageview_desktop_views = api_call.json()\n",
    "# print(pageview_desktop_views) # Print Resposne from API call \n",
    "\n",
    "# https://stackoverflow.com/questions/17043860/python-dump-dict-to-json-file\n",
    "with open(OUTPUT_File, 'w') as fp:\n",
    "    json.dump(pageview_desktop_views, fp)\n",
    "    "
   ]
  },
  {
   "cell_type": "code",
   "execution_count": 7,
   "metadata": {
    "collapsed": true
   },
   "outputs": [],
   "source": [
    "# Getting PageView [(User)]  : mobile-app\n",
    "OUTPUT_File = 'pageviews_mobileapp-site_201501-201709.json'\n",
    "params = {'project' : 'en.wikipedia.org',\n",
    "            'access' : 'mobile-app',\n",
    "            'agent' : 'user',\n",
    "            'granularity' : 'monthly',\n",
    "            'start' : '2015070100',\n",
    "            'end' : '2017100100'#use the first day of the following month to ensure a full month of data is collected\n",
    "            }\n",
    "\n",
    "api_call = requests.get(endpoint.format(**params))\n",
    "pageview_mobile_app_views = api_call.json()\n",
    "# print(pageview_mobile_app_views) # Print Resposne from API call \n",
    "\n",
    "# https://stackoverflow.com/questions/17043860/python-dump-dict-to-json-file\n",
    "with open(OUTPUT_File, 'w') as fp:\n",
    "    json.dump(pageview_mobile_app_views, fp)"
   ]
  },
  {
   "cell_type": "code",
   "execution_count": 8,
   "metadata": {
    "collapsed": true
   },
   "outputs": [],
   "source": [
    "# Getting PageView [(User)]  : mobile-web\n",
    "OUTPUT_File = 'pageviews_mobileweb-site_201501-201709.json'\n",
    "params = {'project' : 'en.wikipedia.org',\n",
    "            'access' : 'mobile-web',\n",
    "            'agent' : 'user',\n",
    "            'granularity' : 'monthly',\n",
    "            'start' : '2015070100',\n",
    "            'end' : '2017100100'#use the first day of the following month to ensure a full month of data is collected\n",
    "            }\n",
    "\n",
    "api_call = requests.get(endpoint.format(**params))\n",
    "pageview_mobile_web_views = api_call.json()\n",
    "# print(pageview_mobile_web_views) # Print Resposne from API call \n",
    "\n",
    "# https://stackoverflow.com/questions/17043860/python-dump-dict-to-json-file\n",
    "with open(OUTPUT_File, 'w') as fp:\n",
    "    json.dump(pageview_mobile_web_views, fp)"
   ]
  },
  {
   "cell_type": "markdown",
   "metadata": {},
   "source": [
    "## Step 2: Data processing"
   ]
  },
  {
   "cell_type": "code",
   "execution_count": 9,
   "metadata": {
    "collapsed": true
   },
   "outputs": [],
   "source": [
    "#From Jan 1 2008 to Sep 2017,\n",
    "# output dictionary will have 12*9+9=117\n",
    "\n",
    "# creating output dictionary with year, month and all other data set as 0\n",
    "\n",
    "\n",
    "startYear = 2008\n",
    "startMonth = 1\n",
    "endYear = 2017\n",
    "#endMonth = 9\n",
    "\n",
    "#totalMonths = (endYear-1-startYear+1)*12 + endMonth\n",
    "#print(totalMonths)\n",
    "\n",
    "output = []\n",
    "\n",
    "for year in range(startYear, endYear+1):\n",
    "        for month in range(startMonth, 13):\n",
    "            temp ={}\n",
    "            temp[\"year\"] = str(year)\n",
    "            # https://stackoverflow.com/questions/339007/nicest-way-to-pad-zeroes-to-string\n",
    "            temp[\"month\"] = str(month).rjust(2, '0')\n",
    "            temp[\"pagecount_all_views\"] = 0\n",
    "            temp[\"pagecount_desktop_views\"] = 0\n",
    "            temp[\"pagecount_mobile_views\"] = 0\n",
    "            temp[\"pageview_all_views\"] = 0\n",
    "            temp[\"pageview_desktop_views\"] = 0\n",
    "            temp[\"pageview_mobile_views\"] = 0\n",
    "            output.append(temp)\n",
    "#print(output)\n",
    "\n"
   ]
  },
  {
   "cell_type": "code",
   "execution_count": 10,
   "metadata": {
    "collapsed": true
   },
   "outputs": [],
   "source": [
    "# Code \n",
    "# pagecount_desktop_views\n",
    "count_pagecount_desktop_views = 0 \n",
    "for item in pagecount_desktop_views[\"items\"]:\n",
    "    timestamp = item[\"timestamp\"]\n",
    "    \n",
    "    # parsing timestamp to get year and month\n",
    "    year = timestamp[0:4] \n",
    "    month = timestamp[4:6]\n",
    "    \n",
    "    views = item[\"count\"]\n",
    "    \n",
    "    \n",
    "    for element in output:\n",
    "        if(element[\"year\"]==year and element[\"month\"]==month):\n",
    "            count_pagecount_desktop_views= count_pagecount_desktop_views+1\n",
    "            element[\"pagecount_desktop_views\"] = views\n",
    "            \n",
    "#print(output)\n",
    "#print(count_pagecount_desktop_views)"
   ]
  },
  {
   "cell_type": "code",
   "execution_count": 11,
   "metadata": {
    "collapsed": true
   },
   "outputs": [],
   "source": [
    "# Code \n",
    "# pagecount_mobile_views\n",
    "count_pagecount_mobile_views = 0 \n",
    "for item in pagecount_mobile_views[\"items\"]:\n",
    "    timestamp = item[\"timestamp\"]\n",
    "    \n",
    "    # parsing timestamp to get year and month\n",
    "    year = timestamp[0:4] \n",
    "    month = timestamp[4:6]\n",
    "    \n",
    "    views = item[\"count\"]\n",
    "    \n",
    "    \n",
    "    for element in output:\n",
    "        if(element[\"year\"]==year and element[\"month\"]==month):\n",
    "            count_pagecount_mobile_views= count_pagecount_mobile_views+1\n",
    "            element[\"pagecount_mobile_views\"] = views\n",
    "            \n",
    "#print(output)\n",
    "#print(count_pagecount_mobile_views)\n"
   ]
  },
  {
   "cell_type": "code",
   "execution_count": 12,
   "metadata": {
    "collapsed": true
   },
   "outputs": [],
   "source": [
    "# Code \n",
    "#(pageview_desktop_views\n",
    "\n",
    "\n",
    "count_pageview_desktop_views = 0 \n",
    "for item in pageview_desktop_views[\"items\"]:\n",
    "    timestamp = item[\"timestamp\"]\n",
    "    \n",
    "    # parsing timestamp to get year and month\n",
    "    year = timestamp[0:4] \n",
    "    month = timestamp[4:6]\n",
    "    \n",
    "    views = item[\"views\"]\n",
    "    \n",
    "    \n",
    "    for element in output:\n",
    "        if(element[\"year\"]==year and element[\"month\"]==month):\n",
    "            count_pageview_desktop_views= count_pageview_desktop_views+1\n",
    "            element[\"pageview_desktop_views\"] = views\n",
    "            \n",
    "#print(output)\n",
    "#print(count_pageview_desktop_views)"
   ]
  },
  {
   "cell_type": "markdown",
   "metadata": {},
   "source": []
  },
  {
   "cell_type": "code",
   "execution_count": 13,
   "metadata": {
    "collapsed": true
   },
   "outputs": [],
   "source": [
    "\n",
    "\n",
    "#(pageview_mobile_app\n",
    "\n",
    "\n",
    "count_pageview_mobile_app_views = 0 \n",
    "for item in pageview_mobile_app_views[\"items\"]:\n",
    "    timestamp = item[\"timestamp\"]\n",
    "    \n",
    "    # parsing timestamp to get year and month\n",
    "    year = timestamp[0:4] \n",
    "    month = timestamp[4:6]\n",
    "    \n",
    "    views = item[\"views\"]\n",
    "    \n",
    "    \n",
    "    for element in output:\n",
    "        if(element[\"year\"]==year and element[\"month\"]==month):\n",
    "            count_pageview_mobile_app_views= count_pageview_mobile_app_views+1\n",
    "            element[\"pageview_mobile_views\"] = views\n",
    "            \n",
    "#print(output)\n",
    "#print(count_pageview_mobile_app_views)"
   ]
  },
  {
   "cell_type": "code",
   "execution_count": 14,
   "metadata": {
    "collapsed": true
   },
   "outputs": [],
   "source": [
    "#  Code \n",
    "#pageview_mobile_web\n",
    "count_pageview_mobile_web_views = 0 \n",
    "for item in pageview_mobile_web_views[\"items\"]:\n",
    "    timestamp = item[\"timestamp\"]\n",
    "    \n",
    "    # parsing timestamp to get year and month\n",
    "    year = timestamp[0:4] \n",
    "    month = timestamp[4:6]\n",
    "    \n",
    "    views = item[\"views\"]\n",
    "    \n",
    "    \n",
    "    for element in output:\n",
    "        if(element[\"year\"]==year and element[\"month\"]==month):\n",
    "            count_pageview_mobile_web_views= count_pageview_mobile_web_views+1\n",
    "            # For data collected from the Pageviews API, combine the monthly values for mobile-app and mobile-web to create a total mobile traffic count for each month.\n",
    "            element[\"pageview_mobile_views\"] =  element[\"pageview_mobile_views\"] + views\n",
    "            \n",
    "#print(output)\n",
    "#print(count_pageview_mobile_web_views)"
   ]
  },
  {
   "cell_type": "code",
   "execution_count": 15,
   "metadata": {
    "collapsed": true
   },
   "outputs": [],
   "source": [
    "\n",
    "# pagecount_all_views = pagecount_mobile_views + pagecount_desktop_views\n",
    "# pageview_all_views = pageview_mobile_views + pageview_desktop_views\n",
    "for item in output:\n",
    "    item[\"pagecount_all_views\"] = item[\"pagecount_mobile_views\"] + item[\"pagecount_desktop_views\"]\n",
    "    item[\"pageview_all_views\"] = item[\"pageview_mobile_views\"] + item[\"pageview_desktop_views\"]\n",
    "\n",
    "#print(output)"
   ]
  },
  {
   "cell_type": "code",
   "execution_count": 16,
   "metadata": {},
   "outputs": [
    {
     "name": "stdout",
     "output_type": "stream",
     "text": [
      "Done\n"
     ]
    }
   ],
   "source": [
    "# The final data file should be named: en-wikipedia_traffic_200801-201709.csv\n",
    "import csv\n",
    "CSVOut = \"en-wikipedia_traffic_200801-201709.csv\"\n",
    "with open(CSVOut, \"w\") as ofile:\n",
    "    ofile.write(\"year\" + \",\" + \"month\" + \",\" + \"pagecount_all_views\"+\",\" + \"pagecount_desktop_views\"+\",\" + \"pagecount_mobile_views\"+\",\" + \"pageview_all_views\"+\",\" + \"pageview_desktop_views\"+\",\" + \"pageview_mobile_views\"+ \"\\n\")\n",
    "    for item in output:\n",
    "        ofile.write(str(item[\"year\"]) + \",\" + str(item[\"month\"]) + \",\" + str(item[\"pagecount_all_views\"])+\",\" + str(item[\"pagecount_desktop_views\"])+\",\" + str(item[\"pagecount_mobile_views\"]) +\",\" + str(item[\"pageview_all_views\"]) +\",\" + str(item[\"pageview_desktop_views\"]) +\",\" + str(item[\"pageview_mobile_views\"]) + \"\\n\")\n",
    "# print(\"Done\")            "
   ]
  },
  {
   "cell_type": "markdown",
   "metadata": {},
   "source": [
    "## Step 3: Analysis"
   ]
  },
  {
   "cell_type": "code",
   "execution_count": 17,
   "metadata": {},
   "outputs": [],
   "source": [
    "# Creating Dataframe to Create Vizalization \n",
    "#https://chrisalbon.com/python/pandas_dataframe_importing_csv.html\n",
    "import pandas as pd\n",
    "import numpy as np\n",
    "\n",
    "df = pd.DataFrame(output, columns=['year','month','pagecount_all_views','pagecount_desktop_views','pagecount_mobile_views','pageview_all_views','pageview_desktop_views','pageview_mobile_views'])\n",
    "#print(df)\n"
   ]
  },
  {
   "cell_type": "code",
   "execution_count": 18,
   "metadata": {},
   "outputs": [],
   "source": [
    "# Python Pandas replace multiple columns zero to Nan\n",
    "# https://stackoverflow.com/questions/45416684/python-pandas-replace-multiple-columns-zero-to-nan\n",
    "\n",
    "df = df.replace({0:np.nan})\n",
    "#print(df)"
   ]
  },
  {
   "cell_type": "code",
   "execution_count": 19,
   "metadata": {},
   "outputs": [
    {
     "data": {
      "image/png": "[encoded data removed]",
      "text/plain": [
       "<matplotlib.figure.Figure at 0x1657737b9e8>"
      ]
     },
     "metadata": {},
     "output_type": "display_data"
    }
   ],
   "source": [
    "# Pandas Documnetation \n",
    "# https://pandas.pydata.org/pandas-docs/stable/visualization.html \n",
    "\n",
    "# Convert Select Columns in Pandas Dataframe to Numpy Array\n",
    "# https://stackoverflow.com/questions/31789160/convert-select-columns-in-pandas-dataframe-to-numpy-array\n",
    "# df.as_matrix(columns=df.columns[2:])\n",
    "\n",
    "import matplotlib.pyplot as plt\n",
    "import matplotlib\n",
    "matplotlib.style.use('ggplot')\n",
    "%matplotlib inline\n",
    "\n",
    "\n",
    "\n",
    "dfg = pd.DataFrame(df.as_matrix(columns=df.columns[2:]), index=pd.date_range(start='1/1/2008', end='12/1/2017', freq='MS'), columns=['pagecount_all_views','pagecount_desktop_views','pagecount_mobile_views','pageview_all_views','pageview_desktop_views','pageview_mobile_views'])\n",
    "\n",
    "#print(dfg)\n",
    "\n",
    "plt.figure(num=1,figsize=(16,6)) # https://stackoverflow.com/questions/332289/how-do-you-change-the-size-of-figures-drawn-with-matplotlib\n",
    "\n",
    "plt.plot(dfg )\n",
    "plt.xlabel('Year')\n",
    "plt.ylabel('View Count [1e10]')\n",
    "\n",
    "plt.title('Page Views on English Wikipedia [ January 1 2008 through September 30 2017 ]')\n",
    "plt.legend(['TotalViews','DesktopViews','MobileViews','TotalViews-UserOnly','DesktopViews -UserOnly','MobileViews-User Only'])\n",
    "plt.savefig('Mobile and desktop traffic data for English WIkipedia from 2008-2016.png')\n",
    "plt.savefig('Mobile and desktop traffic data for English WIkipedia from 2008-2016.jpeg')\n",
    "plt.savefig('Mobile and desktop traffic data for English WIkipedia from 2008-2016.pdf')\n",
    "plt.show()\n",
    "\n"
   ]
  }
 ],
 "metadata": {
  "kernelspec": {
   "display_name": "Python 3",
   "language": "python",
   "name": "python3"
  },
  "language_info": {
   "codemirror_mode": {
    "name": "ipython",
    "version": 3
   },
   "file_extension": ".py",
   "mimetype": "text/x-python",
   "name": "python",
   "nbconvert_exporter": "python",
   "pygments_lexer": "ipython3",
   "version": "3.6.2"
  }
 },
 "nbformat": 4,
 "nbformat_minor": 2
}
